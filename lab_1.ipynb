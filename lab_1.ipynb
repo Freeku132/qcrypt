{
 "cells": [
  {
   "cell_type": "code",
   "execution_count": 35,
   "id": "initial_id",
   "metadata": {
    "collapsed": true,
    "ExecuteTime": {
     "end_time": "2024-04-28T13:34:21.012552Z",
     "start_time": "2024-04-28T13:34:21.006404Z"
    }
   },
   "outputs": [],
   "source": [
    "import qiskit\n",
    "import numpy as np "
   ]
  },
  {
   "cell_type": "code",
   "execution_count": 30,
   "outputs": [
    {
     "name": "stdout",
     "output_type": "stream",
     "text": [
      "[[ 1.+0.j -1.+1.j  1.+0.j -1.-1.j]\n",
      " [-1.+1.j  1.+0.j -1.-1.j  1.+0.j]\n",
      " [ 1.+0.j -1.-1.j  1.+0.j -1.+1.j]\n",
      " [-1.-1.j  1.+0.j -1.+1.j  1.+0.j]]\n"
     ]
    }
   ],
   "source": [
    "M = np.array([[1, -1 + 1j, 1, -1 -1j],\n",
    "                    [-1 + 1j, 1, -1 -1j, 1],\n",
    "                    [1, -1 -1j, 1, -1 +1j],\n",
    "                    [-1 -1j, 1, -1 +1j, 1]])\n",
    "print(M)"
   ],
   "metadata": {
    "collapsed": false,
    "ExecuteTime": {
     "end_time": "2024-04-28T13:22:14.709199Z",
     "start_time": "2024-04-28T13:22:14.703098Z"
    }
   },
   "id": "cc98261039d4994c"
  },
  {
   "cell_type": "code",
   "execution_count": 21,
   "outputs": [],
   "source": [
    "eigenvalues = np.linalg.eigvals(M)"
   ],
   "metadata": {
    "collapsed": false,
    "ExecuteTime": {
     "end_time": "2024-04-28T13:11:20.083322Z",
     "start_time": "2024-04-28T13:11:20.077545Z"
    }
   },
   "id": "a27c7a3f8569e0ac"
  },
  {
   "cell_type": "code",
   "execution_count": 22,
   "outputs": [
    {
     "data": {
      "text/plain": "array([4.00000000e+00+6.66133815e-16j, 9.41575377e-16-2.00000000e+00j,\n       1.66756965e-16+2.00000000e+00j, 1.47714626e-17-7.78175030e-17j])"
     },
     "execution_count": 22,
     "metadata": {},
     "output_type": "execute_result"
    }
   ],
   "source": [
    "eigenvalues"
   ],
   "metadata": {
    "collapsed": false,
    "ExecuteTime": {
     "end_time": "2024-04-28T13:11:20.340476Z",
     "start_time": "2024-04-28T13:11:20.334437Z"
    }
   },
   "id": "4cb6c1147fd3c9e6"
  },
  {
   "cell_type": "code",
   "execution_count": 23,
   "outputs": [],
   "source": [
    "eigenvalues, eigenvectors = np.linalg.eig(M)"
   ],
   "metadata": {
    "collapsed": false,
    "ExecuteTime": {
     "end_time": "2024-04-28T13:11:23.140932Z",
     "start_time": "2024-04-28T13:11:23.133337Z"
    }
   },
   "id": "4dab2909011daf39"
  },
  {
   "cell_type": "code",
   "execution_count": 25,
   "outputs": [
    {
     "data": {
      "text/plain": "array([[-0.5+2.77555756e-17j, -0.5+4.16333634e-16j,  0.5-4.44089210e-16j,\n         0.5+5.03069808e-17j],\n       [ 0.5+1.11022302e-16j,  0.5+0.00000000e+00j,  0.5+0.00000000e+00j,\n         0.5+7.80625564e-17j],\n       [-0.5+1.11022302e-16j,  0.5-3.05311332e-16j, -0.5+4.99600361e-16j,\n         0.5+1.65666092e-16j],\n       [ 0.5+0.00000000e+00j, -0.5+2.49800181e-16j, -0.5+3.46944695e-16j,\n         0.5+0.00000000e+00j]])"
     },
     "execution_count": 25,
     "metadata": {},
     "output_type": "execute_result"
    }
   ],
   "source": [
    "eigenvectors"
   ],
   "metadata": {
    "collapsed": false,
    "ExecuteTime": {
     "end_time": "2024-04-28T13:11:25.016750Z",
     "start_time": "2024-04-28T13:11:25.008063Z"
    }
   },
   "id": "8af15529b3ac3d1f"
  },
  {
   "cell_type": "code",
   "execution_count": 37,
   "outputs": [
    {
     "name": "stdout",
     "output_type": "stream",
     "text": [
      "DensityMatrix([[-0.5+2.77555756e-17j, -0.5+4.16333634e-16j,\n",
      "                 0.5-4.44089210e-16j,  0.5+5.03069808e-17j],\n",
      "               [ 0.5+1.11022302e-16j,  0.5+0.00000000e+00j,\n",
      "                 0.5+0.00000000e+00j,  0.5+7.80625564e-17j],\n",
      "               [-0.5+1.11022302e-16j,  0.5-3.05311332e-16j,\n",
      "                -0.5+4.99600361e-16j,  0.5+1.65666092e-16j],\n",
      "               [ 0.5+0.00000000e+00j, -0.5+2.49800181e-16j,\n",
      "                -0.5+3.46944695e-16j,  0.5+0.00000000e+00j]],\n",
      "              dims=(2, 2))\n"
     ]
    }
   ],
   "source": [
    "qiskit.quantum_info.DensityMatrix(eigenvectors)\n"
   ],
   "metadata": {
    "collapsed": false,
    "ExecuteTime": {
     "end_time": "2024-04-28T13:34:31.335991Z",
     "start_time": "2024-04-28T13:34:31.324325Z"
    }
   },
   "id": "ec98a4e339b868cd"
  },
  {
   "cell_type": "code",
   "execution_count": null,
   "outputs": [],
   "source": [],
   "metadata": {
    "collapsed": false
   },
   "id": "b373e6e1488f4e9b"
  }
 ],
 "metadata": {
  "kernelspec": {
   "display_name": "Python 3",
   "language": "python",
   "name": "python3"
  },
  "language_info": {
   "codemirror_mode": {
    "name": "ipython",
    "version": 2
   },
   "file_extension": ".py",
   "mimetype": "text/x-python",
   "name": "python",
   "nbconvert_exporter": "python",
   "pygments_lexer": "ipython2",
   "version": "2.7.6"
  }
 },
 "nbformat": 4,
 "nbformat_minor": 5
}
