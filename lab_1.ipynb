{
 "cells": [
  {
   "cell_type": "code",
   "execution_count": 1,
   "id": "initial_id",
   "metadata": {
    "collapsed": true,
    "ExecuteTime": {
     "end_time": "2024-06-09T18:04:18.961622Z",
     "start_time": "2024-06-09T18:04:18.700460Z"
    }
   },
   "outputs": [],
   "source": [
    "import qiskit as qi\n",
    "import numpy as np "
   ]
  },
  {
   "cell_type": "code",
   "execution_count": 2,
   "outputs": [
    {
     "name": "stdout",
     "output_type": "stream",
     "text": [
      "[[ 1.+0.j -1.+1.j  1.+0.j -1.-1.j]\n",
      " [-1.+1.j  1.+0.j -1.-1.j  1.+0.j]\n",
      " [ 1.+0.j -1.-1.j  1.+0.j -1.+1.j]\n",
      " [-1.-1.j  1.+0.j -1.+1.j  1.+0.j]]\n"
     ]
    }
   ],
   "source": [
    "matrix_M = np.array([\n",
    "    [1, -1 + 1j, 1, -1 -1j],\n",
    "    [-1 + 1j, 1, -1 -1j, 1],\n",
    "    [1, -1 -1j, 1, -1 +1j],\n",
    "    [-1 -1j, 1, -1 +1j, 1]\n",
    "])\n",
    "print(matrix_M)"
   ],
   "metadata": {
    "collapsed": false,
    "ExecuteTime": {
     "end_time": "2024-06-09T18:04:18.968426Z",
     "start_time": "2024-06-09T18:04:18.963576Z"
    }
   },
   "id": "cc98261039d4994c"
  },
  {
   "cell_type": "markdown",
   "source": [
    "# 2.a i 2.b"
   ],
   "metadata": {
    "collapsed": false
   },
   "id": "d892ba8e6ebf8747"
  },
  {
   "cell_type": "code",
   "execution_count": 3,
   "outputs": [],
   "source": [
    "eigenvalues, eigenvectors = np.linalg.eig(matrix_M)"
   ],
   "metadata": {
    "collapsed": false,
    "ExecuteTime": {
     "end_time": "2024-06-09T18:04:18.986940Z",
     "start_time": "2024-06-09T18:04:18.970338Z"
    }
   },
   "id": "4dab2909011daf39"
  },
  {
   "cell_type": "code",
   "outputs": [
    {
     "name": "stdout",
     "output_type": "stream",
     "text": [
      "a) Wartości własne macierzy \n"
     ]
    },
    {
     "data": {
      "text/plain": "array([ 4.00000000e+00+2.22044605e-16j, -1.76399693e-16+2.00000000e+00j,\n        1.11561492e-16-2.00000000e+00j, -4.46154431e-16+6.60264855e-17j])"
     },
     "execution_count": 4,
     "metadata": {},
     "output_type": "execute_result"
    }
   ],
   "source": [
    "print(\"a) Wartości własne macierzy \")\n",
    "eigenvalues"
   ],
   "metadata": {
    "collapsed": false,
    "ExecuteTime": {
     "end_time": "2024-06-09T18:04:18.996761Z",
     "start_time": "2024-06-09T18:04:18.989110Z"
    }
   },
   "id": "88629bd81351f49d",
   "execution_count": 4
  },
  {
   "cell_type": "code",
   "execution_count": 5,
   "outputs": [
    {
     "name": "stdout",
     "output_type": "stream",
     "text": [
      "b) Odpowiadające im wektory własne:\n"
     ]
    },
    {
     "data": {
      "text/plain": "array([[-0.5-2.22044605e-16j, -0.5+6.10622664e-16j, -0.5-6.93889390e-16j,\n         0.5-6.93889390e-17j],\n       [ 0.5+0.00000000e+00j, -0.5-2.22044605e-16j,  0.5+0.00000000e+00j,\n         0.5-4.16333634e-17j],\n       [-0.5-2.22044605e-16j,  0.5-2.49800181e-16j,  0.5+1.94289029e-16j,\n         0.5+0.00000000e+00j],\n       [ 0.5-2.77555756e-17j,  0.5+0.00000000e+00j, -0.5+2.77555756e-17j,\n         0.5-1.11022302e-16j]])"
     },
     "execution_count": 5,
     "metadata": {},
     "output_type": "execute_result"
    }
   ],
   "source": [
    "print(\"b) Odpowiadające im wektory własne:\")\n",
    "eigenvectors"
   ],
   "metadata": {
    "collapsed": false,
    "ExecuteTime": {
     "end_time": "2024-06-09T18:04:19.004566Z",
     "start_time": "2024-06-09T18:04:18.998322Z"
    }
   },
   "id": "8af15529b3ac3d1f"
  },
  {
   "cell_type": "markdown",
   "source": [
    "# 2.c Dla wektorów"
   ],
   "metadata": {
    "collapsed": false
   },
   "id": "41984c28e5080f4e"
  },
  {
   "cell_type": "code",
   "outputs": [
    {
     "name": "stdout",
     "output_type": "stream",
     "text": [
      "Macierz gęstości dla wektora własnego 1:\n",
      " DensityMatrix([[ 0.25+0.00000000e+00j, -0.25-1.11022302e-16j,\n",
      "                 0.25+4.93038066e-32j, -0.25-1.24900090e-16j],\n",
      "               [-0.25+1.11022302e-16j,  0.25+0.00000000e+00j,\n",
      "                -0.25+1.11022302e-16j,  0.25+1.38777878e-17j],\n",
      "               [ 0.25-4.93038066e-32j, -0.25-1.11022302e-16j,\n",
      "                 0.25+0.00000000e+00j, -0.25-1.24900090e-16j],\n",
      "               [-0.25+1.24900090e-16j,  0.25-1.38777878e-17j,\n",
      "                -0.25+1.24900090e-16j,  0.25+0.00000000e+00j]],\n",
      "              dims=(2, 2)) \n",
      "\n",
      "Macierz gęstości dla wektora własnego 2:\n",
      " DensityMatrix([[ 0.25+9.24446373e-33j,  0.25-4.16333634e-16j,\n",
      "                -0.25+1.80411242e-16j, -0.25+3.05311332e-16j],\n",
      "               [ 0.25+4.16333634e-16j,  0.25+0.00000000e+00j,\n",
      "                -0.25-2.35922393e-16j, -0.25-1.11022302e-16j],\n",
      "               [-0.25-1.80411242e-16j, -0.25+2.35922393e-16j,\n",
      "                 0.25+0.00000000e+00j,  0.25-1.24900090e-16j],\n",
      "               [-0.25-3.05311332e-16j, -0.25+1.11022302e-16j,\n",
      "                 0.25+1.24900090e-16j,  0.25+0.00000000e+00j]],\n",
      "              dims=(2, 2)) \n",
      "\n",
      "Macierz gęstości dla wektora własnego 3:\n",
      " DensityMatrix([[ 0.25+1.23259516e-32j, -0.25-3.46944695e-16j,\n",
      "                -0.25-2.49800181e-16j,  0.25+3.60822483e-16j],\n",
      "               [-0.25+3.46944695e-16j,  0.25+0.00000000e+00j,\n",
      "                 0.25-9.71445147e-17j, -0.25-1.38777878e-17j],\n",
      "               [-0.25+2.49800181e-16j,  0.25+9.71445147e-17j,\n",
      "                 0.25+6.16297582e-33j, -0.25-1.11022302e-16j],\n",
      "               [ 0.25-3.60822483e-16j, -0.25+1.38777878e-17j,\n",
      "                -0.25+1.11022302e-16j,  0.25+0.00000000e+00j]],\n",
      "              dims=(2, 2)) \n",
      "\n",
      "Macierz gęstości dla wektora własnego 4:\n",
      " DensityMatrix([[0.25+2.31111593e-33j, 0.25-1.38777878e-17j,\n",
      "                0.25-3.46944695e-17j, 0.25+2.08166817e-17j],\n",
      "               [0.25+1.38777878e-17j, 0.25+7.70371978e-34j,\n",
      "                0.25-2.08166817e-17j, 0.25+3.46944695e-17j],\n",
      "               [0.25+3.46944695e-17j, 0.25+2.08166817e-17j,\n",
      "                0.25+0.00000000e+00j, 0.25+5.55111512e-17j],\n",
      "               [0.25-2.08166817e-17j, 0.25-3.46944695e-17j,\n",
      "                0.25-5.55111512e-17j, 0.25+0.00000000e+00j]],\n",
      "              dims=(2, 2)) \n"
     ]
    }
   ],
   "source": [
    "def create_density_matrices(eigenvectors):\n",
    "    density_matrices = []\n",
    "    for vec in eigenvectors.T:  # Transponujemy, aby iterować po kolumnach (wektorach własnych)\n",
    "        dm = qi.quantum_info.DensityMatrix(vec)\n",
    "        density_matrices.append(dm)\n",
    "    return density_matrices\n",
    "\n",
    "density_matrices = create_density_matrices(eigenvectors)\n",
    "\n",
    "for i, rho in enumerate(density_matrices, 1):\n",
    "    print(f\"Macierz gęstości dla wektora własnego {i}:\\n\", rho, \"\\n\")"
   ],
   "metadata": {
    "collapsed": false,
    "ExecuteTime": {
     "end_time": "2024-06-09T18:04:19.012622Z",
     "start_time": "2024-06-09T18:04:19.006225Z"
    }
   },
   "id": "d16644f4168f70cd",
   "execution_count": 6
  },
  {
   "cell_type": "markdown",
   "source": [
    "# 2.c Dla wartości"
   ],
   "metadata": {
    "collapsed": false
   },
   "id": "b33180fc46ea0fb3"
  },
  {
   "cell_type": "code",
   "execution_count": 7,
   "outputs": [
    {
     "name": "stdout",
     "output_type": "stream",
     "text": [
      "c) Macierz gęstości:\n",
      "DensityMatrix([[ 1.60000000e+01+0.00000000e+00j,\n",
      "                -2.61509564e-16-8.00000000e+00j,\n",
      "                 2.15675764e-18+8.00000000e+00j,\n",
      "                -1.78461772e-15-2.64105942e-16j],\n",
      "               [-2.61509564e-16+8.00000000e+00j,\n",
      "                 4.00000000e+00+1.01352063e-32j,\n",
      "                -4.00000000e+00-1.29676403e-16j,\n",
      "                 1.32052971e-16-8.92308862e-16j],\n",
      "               [ 2.15675764e-18-8.00000000e+00j,\n",
      "                -4.00000000e+00+1.29676403e-16j,\n",
      "                 4.00000000e+00-4.78896397e-34j,\n",
      "                -1.32052971e-16+8.92308862e-16j],\n",
      "               [-1.78461772e-15+2.64105942e-16j,\n",
      "                 1.32052971e-16+8.92308862e-16j,\n",
      "                -1.32052971e-16-8.92308862e-16j,\n",
      "                 2.03413273e-31+5.32835119e-49j]],\n",
      "              dims=(2, 2))\n"
     ]
    }
   ],
   "source": [
    "rho = qi.quantum_info.DensityMatrix(eigenvalues)\n",
    "print(\"c) Macierz gęstości:\")\n",
    "rho"
   ],
   "metadata": {
    "collapsed": false,
    "ExecuteTime": {
     "end_time": "2024-06-09T18:04:19.036216Z",
     "start_time": "2024-06-09T18:04:19.014444Z"
    }
   },
   "id": "ec98a4e339b868cd"
  },
  {
   "cell_type": "markdown",
   "source": [
    "# 3.a Sprawdzić czy ρ jest samosprzężone?\n",
    "# Dla wektorów"
   ],
   "metadata": {
    "collapsed": false
   },
   "id": "40b14761e6dadcc4"
  },
  {
   "cell_type": "code",
   "outputs": [],
   "source": [
    "def is_hermitian(rho):\n",
    "    return np.allclose(rho, rho.conjugate().data.T)"
   ],
   "metadata": {
    "collapsed": false,
    "ExecuteTime": {
     "end_time": "2024-06-09T18:04:19.040818Z",
     "start_time": "2024-06-09T18:04:19.037561Z"
    }
   },
   "id": "c19d842d7b0bcb6c",
   "execution_count": 8
  },
  {
   "cell_type": "code",
   "outputs": [
    {
     "name": "stdout",
     "output_type": "stream",
     "text": [
      "Czy macierze gęstości są hermitowskie: [True, True, True, True]\n"
     ]
    }
   ],
   "source": [
    "hermitian_checks = [is_hermitian(rho) for rho in density_matrices]\n",
    "print(\"Czy macierze gęstości są hermitowskie:\", hermitian_checks)"
   ],
   "metadata": {
    "collapsed": false,
    "ExecuteTime": {
     "end_time": "2024-06-09T18:04:19.047536Z",
     "start_time": "2024-06-09T18:04:19.042421Z"
    }
   },
   "id": "3c5e8c5ec8175a40",
   "execution_count": 9
  },
  {
   "cell_type": "markdown",
   "source": [
    "# Dla wartości:"
   ],
   "metadata": {
    "collapsed": false
   },
   "id": "ba36ae766519fcbe"
  },
  {
   "cell_type": "code",
   "outputs": [
    {
     "name": "stdout",
     "output_type": "stream",
     "text": [
      "Czy macierz jest samosprzężona (hermitowska)? True\n"
     ]
    }
   ],
   "source": [
    "hermitian_check = np.allclose(rho.data, rho.conjugate().data.T)\n",
    "print(\"Czy macierz jest samosprzężona (hermitowska)?\", hermitian_check)"
   ],
   "metadata": {
    "collapsed": false,
    "ExecuteTime": {
     "end_time": "2024-06-09T18:04:19.054463Z",
     "start_time": "2024-06-09T18:04:19.049736Z"
    }
   },
   "id": "ed77b46603cd80f5",
   "execution_count": 10
  },
  {
   "cell_type": "markdown",
   "source": [
    "# 3. b"
   ],
   "metadata": {
    "collapsed": false
   },
   "id": "d6976cca974a98cc"
  },
  {
   "cell_type": "code",
   "outputs": [],
   "source": [
    "def is_positive_semidefinite(matrix):\n",
    "    return np.all(np.linalg.eigvals(matrix) >= 0)"
   ],
   "metadata": {
    "collapsed": false,
    "ExecuteTime": {
     "end_time": "2024-06-09T18:04:19.059906Z",
     "start_time": "2024-06-09T18:04:19.056160Z"
    }
   },
   "id": "4264a863b93248db",
   "execution_count": 11
  },
  {
   "cell_type": "markdown",
   "source": [
    "# Dla wektorów"
   ],
   "metadata": {
    "collapsed": false
   },
   "id": "a72344d6a35b4c34"
  },
  {
   "cell_type": "code",
   "outputs": [
    {
     "name": "stdout",
     "output_type": "stream",
     "text": [
      "Czy macierze gęstości są dodatnio określone: [False, False, False, False]\n"
     ]
    }
   ],
   "source": [
    "positivity_checks = [is_positive_semidefinite(rho.data) for rho in density_matrices]\n",
    "print(\"Czy macierze gęstości są dodatnio określone:\", positivity_checks)"
   ],
   "metadata": {
    "collapsed": false,
    "ExecuteTime": {
     "end_time": "2024-06-09T18:04:19.065403Z",
     "start_time": "2024-06-09T18:04:19.061551Z"
    }
   },
   "id": "1d8a40b1b16eb28b",
   "execution_count": 12
  },
  {
   "cell_type": "markdown",
   "source": [
    "# Dla wartości"
   ],
   "metadata": {
    "collapsed": false
   },
   "id": "53e5a60cae4e80f0"
  },
  {
   "cell_type": "code",
   "outputs": [
    {
     "name": "stdout",
     "output_type": "stream",
     "text": [
      "Czy macierz jest dodatnio określone: False\n"
     ]
    }
   ],
   "source": [
    "print(\"Czy macierz jest dodatnio określone:\", rho.is_valid())"
   ],
   "metadata": {
    "collapsed": false,
    "ExecuteTime": {
     "end_time": "2024-06-09T18:04:19.071067Z",
     "start_time": "2024-06-09T18:04:19.067026Z"
    }
   },
   "id": "3465acba1d7ee708",
   "execution_count": 13
  },
  {
   "cell_type": "markdown",
   "source": [
    "# 3.c"
   ],
   "metadata": {
    "collapsed": false
   },
   "id": "9d5d9a727445961b"
  },
  {
   "cell_type": "code",
   "outputs": [],
   "source": [
    "def is_idempotent(matrix):\n",
    "    matrix_squared = np.dot(matrix, matrix)\n",
    "    return np.allclose(matrix, matrix_squared)"
   ],
   "metadata": {
    "collapsed": false,
    "ExecuteTime": {
     "end_time": "2024-06-09T18:04:19.118345Z",
     "start_time": "2024-06-09T18:04:19.115178Z"
    }
   },
   "id": "a682ca27891c0e0c",
   "execution_count": 14
  },
  {
   "cell_type": "markdown",
   "source": [
    "# Dla wektorów"
   ],
   "metadata": {
    "collapsed": false
   },
   "id": "77f6d7bfaa7e6055"
  },
  {
   "cell_type": "code",
   "outputs": [
    {
     "name": "stdout",
     "output_type": "stream",
     "text": [
      "Czy macierze gęstości są idempotentne: [True, True, True, True]\n"
     ]
    }
   ],
   "source": [
    "idempotence_checks = [is_idempotent(rho.data) for rho in density_matrices]\n",
    "print(\"Czy macierze gęstości są idempotentne:\", idempotence_checks)"
   ],
   "metadata": {
    "collapsed": false,
    "ExecuteTime": {
     "end_time": "2024-06-09T18:04:19.163608Z",
     "start_time": "2024-06-09T18:04:19.159480Z"
    }
   },
   "id": "3a2e7e918569254",
   "execution_count": 15
  },
  {
   "cell_type": "markdown",
   "source": [
    "# Dla wartości"
   ],
   "metadata": {
    "collapsed": false
   },
   "id": "90e4838fb1d96cdd"
  },
  {
   "cell_type": "code",
   "outputs": [
    {
     "name": "stdout",
     "output_type": "stream",
     "text": [
      "Idempotyczność:  False\n"
     ]
    }
   ],
   "source": [
    "rho_squared = np.dot(rho, rho)\n",
    "is_idempotent = np.allclose(rho, rho_squared)\n",
    "print(\"Idempotyczność: \", is_idempotent)"
   ],
   "metadata": {
    "collapsed": false,
    "ExecuteTime": {
     "end_time": "2024-06-09T18:04:19.260755Z",
     "start_time": "2024-06-09T18:04:19.257184Z"
    }
   },
   "id": "ca2b91648f647835",
   "execution_count": 16
  },
  {
   "cell_type": "markdown",
   "source": [
    "# 3. d"
   ],
   "metadata": {
    "collapsed": false
   },
   "id": "ca09eadd19e6b318"
  },
  {
   "cell_type": "code",
   "outputs": [],
   "source": [
    "def trace_of_matrix(matrix):\n",
    "    return np.trace(matrix)\n",
    "\n",
    "def trace_of_squared_matrix(matrix):\n",
    "    matrix_squared = np.dot(matrix, matrix)\n",
    "    return np.trace(matrix_squared)"
   ],
   "metadata": {
    "collapsed": false,
    "ExecuteTime": {
     "end_time": "2024-06-09T18:04:19.285439Z",
     "start_time": "2024-06-09T18:04:19.281979Z"
    }
   },
   "id": "937b289bc25601ad",
   "execution_count": 17
  },
  {
   "cell_type": "markdown",
   "source": [
    "# Dla wektorów"
   ],
   "metadata": {
    "collapsed": false
   },
   "id": "cc7c18fc0f59b3cb"
  },
  {
   "cell_type": "code",
   "outputs": [
    {
     "name": "stdout",
     "output_type": "stream",
     "text": [
      "Ślady Tr(rho): \n",
      " [(0.9999999999999998+0j), (1.0000000000000002+9.244463733058732e-33j), (1+1.8488927466117464e-32j), (0.9999999999999999+3.0814879110195774e-33j)]\n",
      "Ślady Tr(rho^2) (mierzące czystość stanów): \n",
      " [(0.9999999999999996+0j), (1.0000000000000004+0j), (1-3.0814879110195774e-33j), (0.9999999999999998+3.0814879110195774e-33j)]\n"
     ]
    }
   ],
   "source": [
    "traces = [trace_of_matrix(rho.data) for rho in density_matrices]\n",
    "traces_squared = [trace_of_squared_matrix(rho.data) for rho in density_matrices]\n",
    "print(\"Ślady Tr(rho): \\n\", traces)\n",
    "print(\"Ślady Tr(rho^2) (mierzące czystość stanów): \\n\", traces_squared)"
   ],
   "metadata": {
    "collapsed": false,
    "ExecuteTime": {
     "end_time": "2024-06-09T18:04:19.306215Z",
     "start_time": "2024-06-09T18:04:19.302288Z"
    }
   },
   "id": "9b9d8a07ac069d4b",
   "execution_count": 18
  },
  {
   "cell_type": "markdown",
   "source": [
    "# Dla wartości"
   ],
   "metadata": {
    "collapsed": false
   },
   "id": "456e31a64e31cced"
  },
  {
   "cell_type": "code",
   "outputs": [
    {
     "name": "stdout",
     "output_type": "stream",
     "text": [
      "Ślad Tr(rho): (23.999999999999964+9.656309934885282e-33j)\n",
      "Ślad Tr(rho^2): (575.9999999999982+2.9582283945787943e-31j)\n"
     ]
    }
   ],
   "source": [
    "print(\"Ślad Tr(rho):\", rho.trace())\n",
    "print(\"Ślad Tr(rho^2):\", rho_squared.trace())"
   ],
   "metadata": {
    "collapsed": false,
    "ExecuteTime": {
     "end_time": "2024-06-09T18:04:19.351797Z",
     "start_time": "2024-06-09T18:04:19.348128Z"
    }
   },
   "id": "64d279093504f863",
   "execution_count": 19
  },
  {
   "cell_type": "markdown",
   "source": [
    "# 4a. Działanie macierzy Hadamarda na stany |0> i |1>"
   ],
   "metadata": {
    "collapsed": false
   },
   "id": "eeedf976726fb489"
  },
  {
   "cell_type": "code",
   "outputs": [
    {
     "name": "stdout",
     "output_type": "stream",
     "text": [
      "        ┌───┐ ░ ┌─┐\n",
      "     q: ┤ H ├─░─┤M├\n",
      "        └───┘ ░ └╥┘\n",
      "meas: 1/═════════╩═\n",
      "                 0 \n",
      "        ┌───┐┌───┐ ░ ┌─┐\n",
      "     q: ┤ X ├┤ H ├─░─┤M├\n",
      "        └───┘└───┘ ░ └╥┘\n",
      "meas: 1/══════════════╩═\n",
      "                      0 \n"
     ]
    }
   ],
   "source": [
    "qc0 = qi.QuantumCircuit(1)\n",
    "qc0.h(0)\n",
    "qc0.measure_all()\n",
    "\n",
    "print(qc0.draw())\n",
    "\n",
    "qc1 = qi.QuantumCircuit(1)\n",
    "qc1.x(0)  # Przygotowanie stanu |1>\n",
    "qc1.h(0)\n",
    "qc1.measure_all()\n",
    "\n",
    "print(qc1.draw())"
   ],
   "metadata": {
    "collapsed": false,
    "ExecuteTime": {
     "end_time": "2024-06-09T18:04:19.372424Z",
     "start_time": "2024-06-09T18:04:19.366330Z"
    }
   },
   "id": "47de816661165289",
   "execution_count": 20
  },
  {
   "cell_type": "code",
   "outputs": [],
   "source": [
    "from qiskit_aer import Aer\n",
    "# Używamy symulatora do uruchomienia obwodu\n",
    "backend = Aer.get_backend('qasm_simulator')"
   ],
   "metadata": {
    "collapsed": false,
    "ExecuteTime": {
     "end_time": "2024-06-09T18:04:19.397437Z",
     "start_time": "2024-06-09T18:04:19.374366Z"
    }
   },
   "id": "24dc849568a0e307",
   "execution_count": 21
  },
  {
   "cell_type": "code",
   "outputs": [
    {
     "name": "stdout",
     "output_type": "stream",
     "text": [
      "Wyniki dla stanu |0> po zastosowaniu bramki Hadamarda: {'0': 514, '1': 510}\n",
      "Wyniki dla stanu |1> po zastosowaniu bramki Hadamarda: {'0': 505, '1': 519}\n"
     ]
    },
    {
     "name": "stderr",
     "output_type": "stream",
     "text": [
      "/tmp/ipykernel_3599/973953881.py:5: DeprecationWarning: Using a qobj for run() is deprecated as of qiskit-aer 0.14 and will be removed no sooner than 3 months from that release date. Transpiled circuits should now be passed directly using `backend.run(circuits, **run_options).\n",
      "  job = backend.run(qobj)\n",
      "/tmp/ipykernel_3599/973953881.py:15: DeprecationWarning: Using a qobj for run() is deprecated as of qiskit-aer 0.14 and will be removed no sooner than 3 months from that release date. Transpiled circuits should now be passed directly using `backend.run(circuits, **run_options).\n",
      "  job1 = backend.run(qobj1)\n"
     ]
    }
   ],
   "source": [
    "transpiled_qc0 = qi.transpile(qc0, backend)\n",
    "qobj = qi.assemble(transpiled_qc0, shots=1024)\n",
    "\n",
    "# Wykonanie obwodu dla stanu |0>\n",
    "job = backend.run(qobj)\n",
    "result = job.result()\n",
    "counts0 = result.get_counts()\n",
    "print(\"Wyniki dla stanu |0> po zastosowaniu bramki Hadamarda:\", counts0)\n",
    "\n",
    "\n",
    "transpiled_qc1 = qi.transpile(qc1, backend)\n",
    "qobj1 = qi.assemble(transpiled_qc1, shots=1024)\n",
    "\n",
    "# Wykonanie obwodu dla stanu |1>\n",
    "job1 = backend.run(qobj1)\n",
    "result1 = job1.result()\n",
    "counts1 = result1.get_counts()\n",
    "print(\"Wyniki dla stanu |1> po zastosowaniu bramki Hadamarda:\", counts1)"
   ],
   "metadata": {
    "collapsed": false,
    "ExecuteTime": {
     "end_time": "2024-06-09T18:04:19.854827Z",
     "start_time": "2024-06-09T18:04:19.399193Z"
    }
   },
   "id": "f5b3cf71fab5f89c",
   "execution_count": 22
  },
  {
   "cell_type": "markdown",
   "source": [
    "# 4b. Prosty obwód kwantowy z bramką Hadamarda na jednym rejestrze"
   ],
   "metadata": {
    "collapsed": false
   },
   "id": "d32becf38955ab67"
  },
  {
   "cell_type": "code",
   "outputs": [
    {
     "data": {
      "text/plain": "        ┌───┐ ░ ┌─┐   \n   q_0: ┤ H ├─░─┤M├───\n        ├───┤ ░ └╥┘┌─┐\n   q_1: ┤ I ├─░──╫─┤M├\n        └───┘ ░  ║ └╥┘\nmeas: 2/═════════╩══╩═\n                 0  1 ",
      "text/html": "<pre style=\"word-wrap: normal;white-space: pre;background: #fff0;line-height: 1.1;font-family: &quot;Courier New&quot;,Courier,monospace\">        ┌───┐ ░ ┌─┐   \n   q_0: ┤ H ├─░─┤M├───\n        ├───┤ ░ └╥┘┌─┐\n   q_1: ┤ I ├─░──╫─┤M├\n        └───┘ ░  ║ └╥┘\nmeas: 2/═════════╩══╩═\n                 0  1 </pre>"
     },
     "execution_count": 23,
     "metadata": {},
     "output_type": "execute_result"
    }
   ],
   "source": [
    "qc = qi.QuantumCircuit(2)\n",
    "qc.h(0)  # Bramka Hadamarda na pierwszym qubicie\n",
    "qc.id(1)  # Bramka tożsamości na drugim qubicie\n",
    "qc.measure_all()\n",
    "qc.draw()"
   ],
   "metadata": {
    "collapsed": false,
    "ExecuteTime": {
     "end_time": "2024-06-09T18:04:19.864528Z",
     "start_time": "2024-06-09T18:04:19.856310Z"
    }
   },
   "id": "68dd597d2fa616c3",
   "execution_count": 23
  },
  {
   "cell_type": "markdown",
   "source": [
    "# 4c. Interpretacja wyników"
   ],
   "metadata": {
    "collapsed": false
   },
   "id": "e13838c54eece293"
  },
  {
   "cell_type": "code",
   "outputs": [
    {
     "name": "stdout",
     "output_type": "stream",
     "text": [
      "Wyniki dla obwodu z bramką H na pierwszym qubicie i I na drugim: {'00': 500, '01': 524}\n"
     ]
    },
    {
     "name": "stderr",
     "output_type": "stream",
     "text": [
      "/tmp/ipykernel_3599/3491619684.py:4: DeprecationWarning: Using a qobj for run() is deprecated as of qiskit-aer 0.14 and will be removed no sooner than 3 months from that release date. Transpiled circuits should now be passed directly using `backend.run(circuits, **run_options).\n",
      "  job = backend.run(qobj)\n"
     ]
    }
   ],
   "source": [
    "transpiled_qc = qi.transpile(qc, backend)\n",
    "qobj = qi.assemble(transpiled_qc, shots=1024)\n",
    "\n",
    "job = backend.run(qobj)\n",
    "result = job.result()\n",
    "counts = result.get_counts()\n",
    "print(\"Wyniki dla obwodu z bramką H na pierwszym qubicie i I na drugim:\", counts)"
   ],
   "metadata": {
    "collapsed": false,
    "ExecuteTime": {
     "end_time": "2024-06-09T18:04:19.887513Z",
     "start_time": "2024-06-09T18:04:19.866815Z"
    }
   },
   "id": "898e045641fe299b",
   "execution_count": 24
  }
 ],
 "metadata": {
  "kernelspec": {
   "display_name": "Python 3",
   "language": "python",
   "name": "python3"
  },
  "language_info": {
   "codemirror_mode": {
    "name": "ipython",
    "version": 2
   },
   "file_extension": ".py",
   "mimetype": "text/x-python",
   "name": "python",
   "nbconvert_exporter": "python",
   "pygments_lexer": "ipython2",
   "version": "2.7.6"
  }
 },
 "nbformat": 4,
 "nbformat_minor": 5
}
