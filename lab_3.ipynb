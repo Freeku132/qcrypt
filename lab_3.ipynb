{
 "cells": [
  {
   "cell_type": "code",
   "execution_count": 62,
   "id": "initial_id",
   "metadata": {
    "collapsed": true,
    "ExecuteTime": {
     "end_time": "2024-05-26T12:50:21.786367Z",
     "start_time": "2024-05-26T12:50:21.608615Z"
    }
   },
   "outputs": [
    {
     "data": {
      "text/plain": "<Figure size 1876.11x451.5 with 1 Axes>",
      "image/png": "[encoded data removed]"
     },
     "execution_count": 62,
     "metadata": {},
     "output_type": "execute_result"
    }
   ],
   "source": [
    "from math import pi\n",
    "from qiskit import QuantumCircuit\n",
    "\n",
    "\n",
    "num_qubits = 3\n",
    "qc = QuantumCircuit(num_qubits +1, num_qubits)\n",
    "\n",
    "qc.h(3)\n",
    "qc.cp(pi/2, 2,3)\n",
    "qc.cp(pi/4, 1,3)\n",
    "qc.cp(pi/8, 0,3)\n",
    "\n",
    "qc.barrier()\n",
    "\n",
    "qc.h(2)\n",
    "qc.cp(pi/2, 1,2)\n",
    "qc.cp(pi/4, 0,2)\n",
    "\n",
    "qc.barrier()\n",
    "\n",
    "qc.h(1)\n",
    "qc.cp(pi/2, 0,1)\n",
    "\n",
    "qc.h(0)\n",
    "qc.barrier()\n",
    "\n",
    "qc.swap(0,3)\n",
    "qc.swap(1,2)\n",
    "qc.draw('mpl')"
   ]
  },
  {
   "cell_type": "markdown",
   "source": [
    "# 2. Czy operacja jest unitarna?"
   ],
   "metadata": {
    "collapsed": false
   },
   "id": "5cc433823d6bd34d"
  },
  {
   "cell_type": "markdown",
   "source": [
    "Jest to kwantowa transformata Fouriera (Quantum Fourier Transform, QFT), która jest operacją unitarną.\n",
    "Oznacza to, że układ przekształce stany kwantowe w sposób zachowujący ich normę. "
   ],
   "metadata": {
    "collapsed": false
   },
   "id": "f0c9137b081aac44"
  },
  {
   "cell_type": "markdown",
   "source": [
    "# 3. Jaką operację realizuje?"
   ],
   "metadata": {
    "collapsed": false
   },
   "id": "3ef1f8a256f39330"
  },
  {
   "cell_type": "markdown",
   "source": [
    "Transformata Fouriera kwantowa (QFT, od ang. Quantum Fourier Transform) to kwantowy odpowiednik klasycznej dyskretnej transformaty Fouriera. Operuje ona na stanie kwantowym, składającym się z kubitów, i jest kluczowym elementem wielu algorytmów kwantowych, takich jak algorytm faktoryzacji Shora czy algorytm szukania Shora.\n",
    "\n",
    "W QFT, transformacja przekształca sekwencję wejściową kubitów w nową sekwencję kubitów, gdzie amplitudy prawdopodobieństwa tych kubitów odpowiadają wartościom dyskretnej transformaty Fouriera wejściowej sekwencji. Można to interpretować jako rodzaj mapowania wartości amplitud na wartości częstotliwości, które reprezentują różne stany bazowe."
   ],
   "metadata": {
    "collapsed": false
   },
   "id": "1dc433169361c7b1"
  },
  {
   "cell_type": "markdown",
   "source": [
    "# 4. Kod ten jest bardzo uproszczony i nie będzie skuteczny dla większych liczb, ale może służyć jako punkt wyjścia do dalszej eksploracji algorytmu Shora i jego implementacji w Qiskit."
   ],
   "metadata": {
    "collapsed": false
   },
   "id": "980984f3696d3eba"
  },
  {
   "cell_type": "code",
   "execution_count": 13,
   "outputs": [
    {
     "name": "stderr",
     "output_type": "stream",
     "text": [
      "/tmp/ipykernel_1550/1261389510.py:20: DeprecationWarning: Using a qobj for run() is deprecated as of qiskit-aer 0.14 and will be removed no sooner than 3 months from that release date. Transpiled circuits should now be passed directly using `backend.run(circuits, **run_options).\n",
      "  result = sim.run(qobj).result()\n"
     ]
    },
    {
     "name": "stdout",
     "output_type": "stream",
     "text": [
      "Test transformacji dla liczby 15, dający wynik:  3\n"
     ]
    }
   ],
   "source": [
    "from math import gcd\n",
    "from qiskit import QuantumCircuit, assemble\n",
    "from qiskit.circuit.library import QFT\n",
    "from qiskit_aer import Aer\n",
    "\n",
    "def qpe_amod15(a, n):\n",
    "    \"\"\" Tworzy obwód dla Quantum Phase Estimation dla a^x mod 15 \"\"\"\n",
    "    qc = QuantumCircuit(n+4, n)\n",
    "    for q in range(n):\n",
    "        qc.h(q)  # Inicjalizacja w stanie |+>\n",
    "    qc.x(3+n)\n",
    "    for q in range(n):\n",
    "        qc.append(c_amod15(a, 2**q), [q] + [i+n for i in range(4)])\n",
    "    qc.append(QFT(n).inverse(), range(n))  # Dodanie odwróconej QFT\n",
    "    qc.measure(range(n), range(n))\n",
    "    # Uruchomienie obwodu na symulatorze\n",
    "    sim = Aer.get_backend('aer_simulator')\n",
    "    qc.draw('mpl')\n",
    "    qobj = assemble(qc)\n",
    "    result = sim.run(qobj).result()\n",
    "    counts = result.get_counts()\n",
    "    return counts\n",
    "\n",
    "def c_amod15(a, power):\n",
    "    \"\"\" Obwód dla a^power mod 15 \"\"\"\n",
    "    if a not in [2, 7, 8, 11, 13]:\n",
    "        raise ValueError(f\"Ta funkcja nie wspiera a={a}.\")\n",
    "    U = QuantumCircuit(4)\n",
    "    for iteration in range(power):\n",
    "        if a in [2, 13]:\n",
    "            U.swap(0, 1)\n",
    "            U.swap(1, 2)\n",
    "            U.swap(2, 3)\n",
    "        if a in [7, 8]:\n",
    "            U.swap(2, 3)\n",
    "            U.swap(1, 2)\n",
    "            U.swap(0, 1)\n",
    "        if a == 11:\n",
    "            U.swap(1, 3)\n",
    "            U.swap(0, 2)\n",
    "        if a in [7, 11, 13]:\n",
    "            for q in range(4):\n",
    "                U.x(q)\n",
    "    U = U.to_gate()\n",
    "    U.name = f\"{a}^{{power}} mod 15\"\n",
    "    c_U = U.control()\n",
    "    return c_U\n",
    "\n",
    "def shor(N):\n",
    "    \"\"\" Główna funkcja realizująca faktoryzację liczby N za pomocą algorytmu Shora \"\"\"\n",
    "    n = 4  # Liczba qubitów w fazie estymacji, zależna od N\n",
    "    for a in range(2, N):\n",
    "        if gcd(a, N) > 1:\n",
    "            return gcd(a, N)\n",
    "        counts = qpe_amod15(a, n)\n",
    "\n",
    "# Testujemy dla N=15\n",
    "print('Test transformacji dla liczby 15, dający wynik: ', shor(15))"
   ],
   "metadata": {
    "collapsed": false,
    "ExecuteTime": {
     "end_time": "2024-06-09T17:43:42.393467Z",
     "start_time": "2024-06-09T17:43:42.315865Z"
    }
   },
   "id": "b1323f9138ff7f2d"
  },
  {
   "cell_type": "code",
   "outputs": [],
   "source": [],
   "metadata": {
    "collapsed": false
   },
   "id": "ce4968e688a27a0a"
  }
 ],
 "metadata": {
  "kernelspec": {
   "display_name": "Python 3",
   "language": "python",
   "name": "python3"
  },
  "language_info": {
   "codemirror_mode": {
    "name": "ipython",
    "version": 2
   },
   "file_extension": ".py",
   "mimetype": "text/x-python",
   "name": "python",
   "nbconvert_exporter": "python",
   "pygments_lexer": "ipython2",
   "version": "2.7.6"
  }
 },
 "nbformat": 4,
 "nbformat_minor": 5
}
